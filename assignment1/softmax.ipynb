{
 "cells": [
  {
   "cell_type": "markdown",
   "metadata": {},
   "source": [
    "# Softmax exercise\n",
    "\n",
    "*Complete and hand in this completed worksheet (including its outputs and any supporting code outside of the worksheet) with your assignment submission. For more details see the [assignments page](http://vision.stanford.edu/teaching/cs231n/assignments.html) on the course website.*\n",
    "\n",
    "This exercise is analogous to the SVM exercise. You will:\n",
    "\n",
    "- implement a fully-vectorized **loss function** for the Softmax classifier\n",
    "- implement the fully-vectorized expression for its **analytic gradient**\n",
    "- **check your implementation** with numerical gradient\n",
    "- use a validation set to **tune the learning rate and regularization** strength\n",
    "- **optimize** the loss function with **SGD**\n",
    "- **visualize** the final learned weights\n"
   ]
  },
  {
   "cell_type": "code",
   "execution_count": 1,
   "metadata": {
    "collapsed": false
   },
   "outputs": [],
   "source": [
    "import random\n",
    "import numpy as np\n",
    "from cs231n.data_utils import load_CIFAR10\n",
    "import matplotlib.pyplot as plt\n",
    "\n",
    "from __future__ import print_function\n",
    "\n",
    "%matplotlib inline\n",
    "plt.rcParams['figure.figsize'] = (10.0, 8.0) # set default size of plots\n",
    "plt.rcParams['image.interpolation'] = 'nearest'\n",
    "plt.rcParams['image.cmap'] = 'gray'\n",
    "\n",
    "# for auto-reloading extenrnal modules\n",
    "# see http://stackoverflow.com/questions/1907993/autoreload-of-modules-in-ipython\n",
    "%load_ext autoreload\n",
    "%autoreload 2"
   ]
  },
  {
   "cell_type": "code",
   "execution_count": 2,
   "metadata": {
    "collapsed": false
   },
   "outputs": [
    {
     "name": "stdout",
     "output_type": "stream",
     "text": [
      "Train data shape:  (49000, 3073)\n",
      "Train labels shape:  (49000,)\n",
      "Validation data shape:  (1000, 3073)\n",
      "Validation labels shape:  (1000,)\n",
      "Test data shape:  (1000, 3073)\n",
      "Test labels shape:  (1000,)\n",
      "dev data shape:  (500, 3073)\n",
      "dev labels shape:  (500,)\n"
     ]
    }
   ],
   "source": [
    "def get_CIFAR10_data(num_training=49000, num_validation=1000, num_test=1000, num_dev=500):\n",
    "    \"\"\"\n",
    "    Load the CIFAR-10 dataset from disk and perform preprocessing to prepare\n",
    "    it for the linear classifier. These are the same steps as we used for the\n",
    "    SVM, but condensed to a single function.  \n",
    "    \"\"\"\n",
    "    # Load the raw CIFAR-10 data\n",
    "    cifar10_dir = 'cs231n/datasets/cifar-10-batches-py'\n",
    "    \n",
    "    X_train, y_train, X_test, y_test = load_CIFAR10(cifar10_dir)\n",
    "    \n",
    "    # subsample the data\n",
    "    mask = list(range(num_training, num_training + num_validation))\n",
    "    X_val = X_train[mask]\n",
    "    y_val = y_train[mask]\n",
    "    mask = list(range(num_training))\n",
    "    X_train = X_train[mask]\n",
    "    y_train = y_train[mask]\n",
    "    mask = list(range(num_test))\n",
    "    X_test = X_test[mask]\n",
    "    y_test = y_test[mask]\n",
    "    mask = np.random.choice(num_training, num_dev, replace=False)\n",
    "    X_dev = X_train[mask]\n",
    "    y_dev = y_train[mask]\n",
    "    \n",
    "    # Preprocessing: reshape the image data into rows\n",
    "    X_train = np.reshape(X_train, (X_train.shape[0], -1))\n",
    "    X_val = np.reshape(X_val, (X_val.shape[0], -1))\n",
    "    X_test = np.reshape(X_test, (X_test.shape[0], -1))\n",
    "    X_dev = np.reshape(X_dev, (X_dev.shape[0], -1))\n",
    "    \n",
    "    # Normalize the data: subtract the mean image\n",
    "    mean_image = np.mean(X_train, axis = 0)\n",
    "    X_train -= mean_image\n",
    "    X_val -= mean_image\n",
    "    X_test -= mean_image\n",
    "    X_dev -= mean_image\n",
    "    \n",
    "    # add bias dimension and transform into columns\n",
    "    X_train = np.hstack([X_train, np.ones((X_train.shape[0], 1))])\n",
    "    X_val = np.hstack([X_val, np.ones((X_val.shape[0], 1))])\n",
    "    X_test = np.hstack([X_test, np.ones((X_test.shape[0], 1))])\n",
    "    X_dev = np.hstack([X_dev, np.ones((X_dev.shape[0], 1))])\n",
    "    \n",
    "    return X_train, y_train, X_val, y_val, X_test, y_test, X_dev, y_dev\n",
    "\n",
    "\n",
    "# Cleaning up variables to prevent loading data multiple times (which may cause memory issue)\n",
    "try:\n",
    "    del X_train, y_train\n",
    "    del X_test, y_test\n",
    "    print('Clear previously loaded data.')\n",
    "except:\n",
    "    pass\n",
    "\n",
    "# Invoke the above function to get our data.\n",
    "X_train, y_train, X_val, y_val, X_test, y_test, X_dev, y_dev = get_CIFAR10_data()\n",
    "print('Train data shape: ', X_train.shape)\n",
    "print('Train labels shape: ', y_train.shape)\n",
    "print('Validation data shape: ', X_val.shape)\n",
    "print('Validation labels shape: ', y_val.shape)\n",
    "print('Test data shape: ', X_test.shape)\n",
    "print('Test labels shape: ', y_test.shape)\n",
    "print('dev data shape: ', X_dev.shape)\n",
    "print('dev labels shape: ', y_dev.shape)"
   ]
  },
  {
   "cell_type": "markdown",
   "metadata": {},
   "source": [
    "## Softmax Classifier\n",
    "\n",
    "Your code for this section will all be written inside **cs231n/classifiers/softmax.py**. \n"
   ]
  },
  {
   "cell_type": "code",
   "execution_count": 3,
   "metadata": {
    "collapsed": false
   },
   "outputs": [
    {
     "name": "stdout",
     "output_type": "stream",
     "text": [
      "loss: 2.324611\n",
      "sanity check: 2.302585\n"
     ]
    }
   ],
   "source": [
    "# First implement the naive softmax loss function with nested loops.\n",
    "# Open the file cs231n/classifiers/softmax.py and implement the\n",
    "# softmax_loss_naive function.\n",
    "\n",
    "from cs231n.classifiers.softmax import softmax_loss_naive\n",
    "import time\n",
    "\n",
    "# Generate a random softmax weight matrix and use it to compute the loss.\n",
    "W = np.random.randn(3073, 10) * 0.0001\n",
    "loss, grad = softmax_loss_naive(W, X_dev, y_dev, 0.0)\n",
    "\n",
    "# As a rough sanity check, our loss should be something close to -log(0.1).\n",
    "print('loss: %f' % loss)\n",
    "print('sanity check: %f' % (-np.log(0.1)))"
   ]
  },
  {
   "cell_type": "markdown",
   "metadata": {},
   "source": [
    "## Inline Question 1:\n",
    "Why do we expect our loss to be close to -log(0.1)? Explain briefly.**\n",
    "\n",
    "**Your answer:** There are ten categories. Using random classifier, approximately 10% are correct\n"
   ]
  },
  {
   "cell_type": "code",
   "execution_count": 4,
   "metadata": {
    "collapsed": false
   },
   "outputs": [
    {
     "name": "stdout",
     "output_type": "stream",
     "text": [
      "numerical: -6.134584 analytic: -6.134584, relative error: 8.119698e-09\n",
      "numerical: 0.111844 analytic: 0.111844, relative error: 2.483009e-07\n",
      "numerical: 2.236121 analytic: 2.236121, relative error: 1.564043e-08\n",
      "numerical: 2.737400 analytic: 2.737400, relative error: 2.103067e-08\n",
      "numerical: 2.385264 analytic: 2.385264, relative error: 2.903913e-09\n",
      "numerical: 1.653424 analytic: 1.653424, relative error: 2.181917e-08\n",
      "numerical: -0.589635 analytic: -0.589635, relative error: 4.628665e-09\n",
      "numerical: 1.180586 analytic: 1.180586, relative error: 4.559685e-09\n",
      "numerical: -0.082463 analytic: -0.082463, relative error: 6.427763e-08\n",
      "numerical: -1.244523 analytic: -1.244523, relative error: 1.628910e-08\n",
      "numerical: 3.933912 analytic: 3.933912, relative error: 1.935656e-08\n",
      "numerical: -0.087641 analytic: -0.087641, relative error: 8.136495e-07\n",
      "numerical: 2.625772 analytic: 2.625772, relative error: 2.363001e-08\n",
      "numerical: -0.386045 analytic: -0.386045, relative error: 7.495771e-08\n",
      "numerical: 3.069301 analytic: 3.069301, relative error: 2.259736e-08\n",
      "numerical: -0.284925 analytic: -0.284925, relative error: 1.379981e-08\n",
      "numerical: 2.634780 analytic: 2.634780, relative error: 2.442946e-08\n",
      "numerical: -1.470534 analytic: -1.470534, relative error: 2.690986e-08\n",
      "numerical: 0.324729 analytic: 0.324729, relative error: 1.635185e-07\n",
      "numerical: 0.082408 analytic: 0.082408, relative error: 6.260034e-07\n"
     ]
    }
   ],
   "source": [
    "# Complete the implementation of softmax_loss_naive and implement a (naive)\n",
    "# version of the gradient that uses nested loops.\n",
    "loss, grad = softmax_loss_naive(W, X_dev, y_dev, 0.0)\n",
    "\n",
    "# As we did for the SVM, use numeric gradient checking as a debugging tool.\n",
    "# The numeric gradient should be close to the analytic gradient.\n",
    "from cs231n.gradient_check import grad_check_sparse\n",
    "f = lambda w: softmax_loss_naive(w, X_dev, y_dev, 0.0)[0]\n",
    "grad_numerical = grad_check_sparse(f, W, grad, 10)\n",
    "\n",
    "# similar to SVM case, do another gradient check with regularization\n",
    "loss, grad = softmax_loss_naive(W, X_dev, y_dev, 5e1)\n",
    "f = lambda w: softmax_loss_naive(w, X_dev, y_dev, 5e1)[0]\n",
    "grad_numerical = grad_check_sparse(f, W, grad, 10)"
   ]
  },
  {
   "cell_type": "code",
   "execution_count": 5,
   "metadata": {
    "collapsed": false
   },
   "outputs": [
    {
     "name": "stdout",
     "output_type": "stream",
     "text": [
      "naive loss: 2.324611e+00 computed in 0.009900s\n",
      "vectorized loss: 2.324611e+00 computed in 0.010525s\n",
      "Loss difference: 0.000000\n",
      "Gradient difference: 0.000000\n"
     ]
    }
   ],
   "source": [
    "# Now that we have a naive implementation of the softmax loss function and its gradient,\n",
    "# implement a vectorized version in softmax_loss_vectorized.\n",
    "# The two versions should compute the same results, but the vectorized version should be\n",
    "# much faster.\n",
    "tic = time.time()\n",
    "loss_naive, grad_naive = softmax_loss_naive(W, X_dev, y_dev, 0.000005)\n",
    "toc = time.time()\n",
    "print('naive loss: %e computed in %fs' % (loss_naive, toc - tic))\n",
    "\n",
    "from cs231n.classifiers.softmax import softmax_loss_vectorized\n",
    "tic = time.time()\n",
    "loss_vectorized, grad_vectorized = softmax_loss_vectorized(W, X_dev, y_dev, 0.000005)\n",
    "toc = time.time()\n",
    "print('vectorized loss: %e computed in %fs' % (loss_vectorized, toc - tic))\n",
    "\n",
    "# As we did for the SVM, we use the Frobenius norm to compare the two versions\n",
    "# of the gradient.\n",
    "grad_difference = np.linalg.norm(grad_naive - grad_vectorized, ord='fro')\n",
    "print('Loss difference: %f' % np.abs(loss_naive - loss_vectorized))\n",
    "print('Gradient difference: %f' % grad_difference)"
   ]
  },
  {
   "cell_type": "code",
   "execution_count": 6,
   "metadata": {
    "collapsed": false
   },
   "outputs": [
    {
     "name": "stdout",
     "output_type": "stream",
     "text": [
      "\n",
      "Working on lr= 2e-07 , reg= 25000.0\n",
      "iteration 0 / 2000: loss 390.929386\n",
      "iteration 100 / 2000: loss 142.863441\n",
      "iteration 200 / 2000: loss 53.448644\n",
      "iteration 300 / 2000: loss 20.785530\n",
      "iteration 400 / 2000: loss 8.895895\n",
      "iteration 500 / 2000: loss 4.537717\n",
      "iteration 600 / 2000: loss 2.978951\n",
      "iteration 700 / 2000: loss 2.411367\n",
      "iteration 800 / 2000: loss 2.122337\n",
      "iteration 900 / 2000: loss 2.111350\n",
      "iteration 1000 / 2000: loss 2.088975\n",
      "iteration 1100 / 2000: loss 2.074131\n",
      "iteration 1200 / 2000: loss 2.037866\n",
      "iteration 1300 / 2000: loss 2.041525\n",
      "iteration 1400 / 2000: loss 1.978122\n",
      "iteration 1500 / 2000: loss 2.006322\n",
      "iteration 1600 / 2000: loss 1.922085\n",
      "iteration 1700 / 2000: loss 2.035335\n",
      "iteration 1800 / 2000: loss 2.009882\n",
      "iteration 1900 / 2000: loss 1.959222\n",
      "\n",
      "Working on lr= 2e-07 , reg= 30000.0\n",
      "iteration 0 / 2000: loss 468.918762\n",
      "iteration 100 / 2000: loss 141.108185\n",
      "iteration 200 / 2000: loss 43.565319\n",
      "iteration 300 / 2000: loss 14.505972\n",
      "iteration 400 / 2000: loss 5.752041\n",
      "iteration 500 / 2000: loss 3.168171\n",
      "iteration 600 / 2000: loss 2.342857\n",
      "iteration 700 / 2000: loss 2.183822\n",
      "iteration 800 / 2000: loss 2.141839\n",
      "iteration 900 / 2000: loss 2.101009\n",
      "iteration 1000 / 2000: loss 2.061356\n",
      "iteration 1100 / 2000: loss 2.135466\n",
      "iteration 1200 / 2000: loss 2.035783\n",
      "iteration 1300 / 2000: loss 1.989319\n",
      "iteration 1400 / 2000: loss 2.077705\n",
      "iteration 1500 / 2000: loss 2.083546\n",
      "iteration 1600 / 2000: loss 2.064294\n",
      "iteration 1700 / 2000: loss 2.036662\n",
      "iteration 1800 / 2000: loss 2.015180\n",
      "iteration 1900 / 2000: loss 2.050488\n",
      "\n",
      "Working on lr= 3e-07 , reg= 25000.0\n",
      "iteration 0 / 2000: loss 390.432252\n",
      "iteration 100 / 2000: loss 87.331866\n",
      "iteration 200 / 2000: loss 20.897086\n",
      "iteration 300 / 2000: loss 6.159032\n",
      "iteration 400 / 2000: loss 2.914264\n",
      "iteration 500 / 2000: loss 2.255092\n",
      "iteration 600 / 2000: loss 2.040650\n",
      "iteration 700 / 2000: loss 2.098354\n",
      "iteration 800 / 2000: loss 2.000230\n",
      "iteration 900 / 2000: loss 1.985397\n",
      "iteration 1000 / 2000: loss 2.070323\n",
      "iteration 1100 / 2000: loss 2.008642\n",
      "iteration 1200 / 2000: loss 1.954831\n",
      "iteration 1300 / 2000: loss 2.005121\n",
      "iteration 1400 / 2000: loss 2.008464\n",
      "iteration 1500 / 2000: loss 2.074764\n",
      "iteration 1600 / 2000: loss 2.030167\n",
      "iteration 1700 / 2000: loss 1.972311\n",
      "iteration 1800 / 2000: loss 1.969494\n",
      "iteration 1900 / 2000: loss 1.978790\n",
      "\n",
      "Working on lr= 3e-07 , reg= 30000.0\n",
      "iteration 0 / 2000: loss 460.308032\n",
      "iteration 100 / 2000: loss 75.982488\n",
      "iteration 200 / 2000: loss 14.106794\n",
      "iteration 300 / 2000: loss 4.078444\n",
      "iteration 400 / 2000: loss 2.389760\n",
      "iteration 500 / 2000: loss 2.182209\n",
      "iteration 600 / 2000: loss 2.039853\n",
      "iteration 700 / 2000: loss 2.076550\n",
      "iteration 800 / 2000: loss 2.028022\n",
      "iteration 900 / 2000: loss 2.066511\n",
      "iteration 1000 / 2000: loss 2.028622\n",
      "iteration 1100 / 2000: loss 2.011108\n",
      "iteration 1200 / 2000: loss 2.094187\n",
      "iteration 1300 / 2000: loss 2.033060\n",
      "iteration 1400 / 2000: loss 2.070286\n",
      "iteration 1500 / 2000: loss 2.051524\n",
      "iteration 1600 / 2000: loss 1.991499\n",
      "iteration 1700 / 2000: loss 1.985171\n",
      "iteration 1800 / 2000: loss 2.094249\n",
      "iteration 1900 / 2000: loss 2.042205\n",
      "\n",
      "Working on lr= 4e-07 , reg= 25000.0\n",
      "iteration 0 / 2000: loss 392.078113\n",
      "iteration 100 / 2000: loss 53.504616\n",
      "iteration 200 / 2000: loss 8.854746\n",
      "iteration 300 / 2000: loss 2.886741\n",
      "iteration 400 / 2000: loss 2.169360\n",
      "iteration 500 / 2000: loss 2.043030\n",
      "iteration 600 / 2000: loss 2.034636\n",
      "iteration 700 / 2000: loss 1.996811\n",
      "iteration 800 / 2000: loss 2.028951\n",
      "iteration 900 / 2000: loss 2.061051\n",
      "iteration 1000 / 2000: loss 2.018565\n",
      "iteration 1100 / 2000: loss 2.059869\n",
      "iteration 1200 / 2000: loss 2.025482\n",
      "iteration 1300 / 2000: loss 1.992077\n",
      "iteration 1400 / 2000: loss 1.997936\n",
      "iteration 1500 / 2000: loss 1.963361\n",
      "iteration 1600 / 2000: loss 2.038035\n",
      "iteration 1700 / 2000: loss 1.952674\n",
      "iteration 1800 / 2000: loss 2.045837\n",
      "iteration 1900 / 2000: loss 1.942720\n",
      "\n",
      "Working on lr= 4e-07 , reg= 30000.0\n",
      "iteration 0 / 2000: loss 462.355666\n",
      "iteration 100 / 2000: loss 42.662699\n",
      "iteration 200 / 2000: loss 5.701299\n",
      "iteration 300 / 2000: loss 2.367755\n",
      "iteration 400 / 2000: loss 2.073838\n",
      "iteration 500 / 2000: loss 2.076436\n",
      "iteration 600 / 2000: loss 2.079297\n",
      "iteration 700 / 2000: loss 2.033050\n",
      "iteration 800 / 2000: loss 2.008389\n",
      "iteration 900 / 2000: loss 2.047831\n",
      "iteration 1000 / 2000: loss 1.964712\n",
      "iteration 1100 / 2000: loss 1.995361\n",
      "iteration 1200 / 2000: loss 2.045297\n",
      "iteration 1300 / 2000: loss 1.980794\n",
      "iteration 1400 / 2000: loss 2.048508\n",
      "iteration 1500 / 2000: loss 2.070878\n",
      "iteration 1600 / 2000: loss 1.997890\n",
      "iteration 1700 / 2000: loss 2.046382\n",
      "iteration 1800 / 2000: loss 2.047968\n",
      "iteration 1900 / 2000: loss 2.049791\n",
      "lr 2.000000e-07 reg 2.500000e+04 train accuracy: 0.349531 val accuracy: 0.357000\n",
      "lr 2.000000e-07 reg 3.000000e+04 train accuracy: 0.345857 val accuracy: 0.355000\n",
      "lr 3.000000e-07 reg 2.500000e+04 train accuracy: 0.351122 val accuracy: 0.351000\n",
      "lr 3.000000e-07 reg 3.000000e+04 train accuracy: 0.344673 val accuracy: 0.354000\n",
      "lr 4.000000e-07 reg 2.500000e+04 train accuracy: 0.346878 val accuracy: 0.351000\n",
      "lr 4.000000e-07 reg 3.000000e+04 train accuracy: 0.339735 val accuracy: 0.360000\n",
      "best validation accuracy achieved during cross-validation: 0.360000\n"
     ]
    }
   ],
   "source": [
    "# Use the validation set to tune hyperparameters (regularization strength and\n",
    "# learning rate). You should experiment with different ranges for the learning\n",
    "# rates and regularization strengths; if you are careful you should be able to\n",
    "# get a classification accuracy of over 0.35 on the validation set.\n",
    "from cs231n.classifiers import Softmax\n",
    "results = {}\n",
    "best_val = -1\n",
    "\n",
    "#best_softmax = Softmax() \n",
    "learning_rates = [2e-7, 3e-7, 4e-7]\n",
    "regularization_strengths = [2.5e4, 3e4]\n",
    "\n",
    "#####################################None###########################################\n",
    "# TODO:                                                                        #\n",
    "# Use the validation set to set the learning rate and regularization strength. #\n",
    "# This should be identical to the validation that you did for the SVM; save    #\n",
    "# the best trained softmax classifer in best_softmax.                          #\n",
    "################################################################################\n",
    "# Your code\n",
    "iteration = 300\n",
    "\n",
    "for lr in learning_rates:\n",
    "    for reg in regularization_strengths:\n",
    "        print(\"\\nWorking on lr=\", lr, \", reg=\", reg)\n",
    "        classifier = Softmax()\n",
    "        classifier.train(X_train, y_train, learning_rate = lr, reg = reg, num_iters= 2000, verbose = True)\n",
    "        trainacc = classifier.evaluates(X_train, y_train)\n",
    "        valacc = classifier.evaluates(X_val, y_val)\n",
    "        if valacc > best_val:\n",
    "            best_val = valacc\n",
    "            best_softmax = classifier\n",
    "        results[(lr, reg)] = (trainacc, valacc)\n",
    "        \n",
    "\"\"\"\n",
    "\n",
    "################################################################################\n",
    "#                              END OF YOUR CODE                                #\n",
    "################################################################################\n",
    "\"\"\"\n",
    "# Print out results.\n",
    "for lr, reg in sorted(results):\n",
    "    train_accuracy, val_accuracy = results[(lr, reg)]\n",
    "    print('lr %e reg %e train accuracy: %f val accuracy: %f' % (\n",
    "                lr, reg, train_accuracy, val_accuracy))\n",
    "    \n",
    "print('best validation accuracy achieved during cross-validation: %f' % best_val)"
   ]
  },
  {
   "cell_type": "code",
   "execution_count": 7,
   "metadata": {
    "collapsed": false
   },
   "outputs": [
    {
     "name": "stdout",
     "output_type": "stream",
     "text": [
      "softmax on raw pixels final test set accuracy: 0.341000\n"
     ]
    }
   ],
   "source": [
    "# evaluate on test set\n",
    "# Evaluate the best softmax on test set\n",
    "y_test_pred = best_softmax.predict(X_test)\n",
    "test_accuracy = np.mean(y_test == y_test_pred)\n",
    "print('softmax on raw pixels final test set accuracy: %f' % (test_accuracy, ))"
   ]
  },
  {
   "cell_type": "markdown",
   "metadata": {},
   "source": [
    "**Inline Question** - *True or False*\n",
    "\n",
    "It's possible to add a new datapoint to a training set that would leave the SVM loss unchanged, but this is not the case with the Softmax classifier loss.\n",
    "\n",
    "*Your answer*:\n",
    "\n",
    "*Your explanation*:"
   ]
  },
  {
   "cell_type": "code",
   "execution_count": 8,
   "metadata": {
    "collapsed": false
   },
   "outputs": [
    {
     "data": {
      "image/png": "[encoded data removed]",
      "text/plain": [
       "<Figure size 1000x800 with 10 Axes>"
      ]
     },
     "metadata": {},
     "output_type": "display_data"
    }
   ],
   "source": [
    "# Visualize the learned weights for each class\n",
    "w = best_softmax.W[:-1,:] # strip out the bias\n",
    "w = w.reshape(32, 32, 3, 10)\n",
    "\n",
    "w_min, w_max = np.min(w), np.max(w)\n",
    "\n",
    "classes = ['plane', 'car', 'bird', 'cat', 'deer', 'dog', 'frog', 'horse', 'ship', 'truck']\n",
    "for i in range(10):\n",
    "    plt.subplot(2, 5, i + 1)\n",
    "    \n",
    "    # Rescale the weights to be between 0 and 255\n",
    "    wimg = 255.0 * (w[:, :, :, i].squeeze() - w_min) / (w_max - w_min)\n",
    "    plt.imshow(wimg.astype('uint8'))\n",
    "    plt.axis('off')\n",
    "    plt.title(classes[i])"
   ]
  }
 ],
 "metadata": {
  "kernelspec": {
   "display_name": "Python 3",
   "language": "python",
   "name": "python3"
  },
  "language_info": {
   "codemirror_mode": {
    "name": "ipython",
    "version": 3
   },
   "file_extension": ".py",
   "mimetype": "text/x-python",
   "name": "python",
   "nbconvert_exporter": "python",
   "pygments_lexer": "ipython3",
   "version": "3.6.5"
  }
 },
 "nbformat": 4,
 "nbformat_minor": 1
}
